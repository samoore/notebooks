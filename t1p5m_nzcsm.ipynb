{
 "cells": [
  {
   "cell_type": "markdown",
   "metadata": {},
   "source": [
    "## A basic IRIS data viewer\n"
   ]
  },
  {
   "cell_type": "markdown",
   "metadata": {},
   "source": [
    "Stuart Moore (NIWA) August 2016"
   ]
  },
  {
   "cell_type": "markdown",
   "metadata": {},
   "source": [
    "The purpose of this notebook is to provide an example on how to create the most basic plot of data within an EcoConnect LAM output file (FF or netCDF format).\n",
    "\n",
    "After ensuring that the correct modules are loaded,\n",
    "\n",
    "```\n",
    "$module load python/2.7.10\n",
    "$module load scitools\n",
    "```\n",
    "\n",
    "Alternatively, you can set up the notebook by loading the Anaconda PYthon environment using,\n",
    "\n",
    "```\n",
    "$module load python/anaconda-2.4.1-Python-2.7\n",
    "```\n",
    "\n",
    "The first step is to import the required Python libraries that will be used."
   ]
  },
  {
   "cell_type": "code",
   "execution_count": 1,
   "metadata": {
    "collapsed": true
   },
   "outputs": [],
   "source": [
    "from __future__ import (absolute_import, division, print_function)\n",
    "import iris\n",
    "import matplotlib.pyplot as plt\n",
    "import iris.quickplot as qplt\n",
    "import cartopy.crs as ccrs"
   ]
  },
  {
   "cell_type": "markdown",
   "metadata": {},
   "source": [
    "We now need to load the data file.  This can be a fieldsfile, PP file, netCDF or GRIB file."
   ]
  },
  {
   "cell_type": "code",
   "execution_count": 2,
   "metadata": {
    "collapsed": false
   },
   "outputs": [],
   "source": [
    "um_data = iris.load('/home/mooresa/cylc-run/u-ae309_STD_v2/share/cycle/20160523T0000Z/NZCSM/STD/OS36/um/umnsaa_pa000')"
   ]
  },
  {
   "cell_type": "markdown",
   "metadata": {},
   "source": [
    "We now print out the contents of that file(s) that have been read into an Iris cube.  Take note of the field index as we'll use this is select the varaible we want to plot."
   ]
  },
  {
   "cell_type": "code",
   "execution_count": 3,
   "metadata": {
    "collapsed": false
   },
   "outputs": [
    {
     "name": "stdout",
     "output_type": "stream",
     "text": [
      "0: air_pressure_at_sea_level / (Pa)    (time: 12; grid_latitude: 1350; grid_longitude: 1200)\n",
      "1: air_temperature / (K)               (time: 12; grid_latitude: 1350; grid_longitude: 1200)\n",
      "2: relative_humidity / (%)             (time: 12; grid_latitude: 1350; grid_longitude: 1200)\n",
      "3: x_wind / (m s-1)                    (time: 12; grid_latitude: 1351; grid_longitude: 1200)\n",
      "4: y_wind / (m s-1)                    (time: 12; grid_latitude: 1351; grid_longitude: 1200)\n"
     ]
    }
   ],
   "source": [
    "print(um_data)"
   ]
  },
  {
   "cell_type": "markdown",
   "metadata": {},
   "source": [
    "From the above list of available fields, we can read a field directly into a cube structure. For example,"
   ]
  },
  {
   "cell_type": "markdown",
   "metadata": {},
   "source": [
    "We also note the dimensions associated with the selected field.  Iris plots 2D maps so we need to filter the selected field down to just two varying dimensions.  We choose to plot just the first available time.  Indices start from 0."
   ]
  },
  {
   "cell_type": "code",
   "execution_count": 4,
   "metadata": {
    "collapsed": true
   },
   "outputs": [],
   "source": [
    "field = um_data[1][0,:,:]"
   ]
  },
  {
   "cell_type": "markdown",
   "metadata": {},
   "source": [
    "We now set up the basic environment for visualising the chosen field.  For models such as NZLAM and NZCSM this means we need to account for the rotated grids they are run on and specifiy this in the cartographic environment used by the plotting library."
   ]
  },
  {
   "cell_type": "code",
   "execution_count": 5,
   "metadata": {
    "collapsed": false
   },
   "outputs": [],
   "source": [
    "RotPolNZ = ccrs.RotatedPole(pole_longitude=171.77, pole_latitude=49.55, central_rotated_longitude=180)\n",
    "ax = plt.axes(projection=RotPolNZ)"
   ]
  },
  {
   "cell_type": "markdown",
   "metadata": {},
   "source": [
    "The above sets up a rotated pole like proection to ensure that SH LAM domains are plotted appropriately.  The pole_latitude and pole_longitude values should match those used by teh model itself.\n",
    "\n",
    "NZLAM: pole_latitude = 166.00; pole_longitude =  51.75 \n",
    "\n",
    "NZCSM: pole_latitude = 171.77; pole_longitude = 49.55"
   ]
  },
  {
   "cell_type": "markdown",
   "metadata": {},
   "source": [
    "Now create the plot."
   ]
  },
  {
   "cell_type": "code",
   "execution_count": 6,
   "metadata": {
    "collapsed": false
   },
   "outputs": [
    {
     "name": "stderr",
     "output_type": "stream",
     "text": [
      "/opt/niwa/anaconda/Anaconda-2.3.0-Python-2.7/lib/python2.7/site-packages/iris/coords.py:802: UserWarning: Coordinate 'grid_longitude' is not bounded, guessing contiguous bounds.\n",
      "  'contiguous bounds.'.format(self.name()))\n",
      "/opt/niwa/anaconda/Anaconda-2.3.0-Python-2.7/lib/python2.7/site-packages/iris/coords.py:802: UserWarning: Coordinate 'grid_latitude' is not bounded, guessing contiguous bounds.\n",
      "  'contiguous bounds.'.format(self.name()))\n"
     ]
    },
    {
     "data": {
      "text/plain": [
       "<matplotlib.collections.QuadMesh at 0x7f145005d710>"
      ]
     },
     "execution_count": 6,
     "metadata": {},
     "output_type": "execute_result"
    }
   ],
   "source": [
    "qplt.pcolormesh(field)\n",
    "#plt.show()"
   ]
  },
  {
   "cell_type": "markdown",
   "metadata": {},
   "source": [
    "We can now add some coastlines to the plot if we wish, using the www.naturalearth.com datasets.  This seems to only work depending on what installation of Python, Jupyter is used."
   ]
  },
  {
   "cell_type": "code",
   "execution_count": null,
   "metadata": {
    "collapsed": false
   },
   "outputs": [],
   "source": [
    "plt.gca().coastlines(resolution='10m', color='black')\n",
    "plt.show()"
   ]
  },
  {
   "cell_type": "code",
   "execution_count": null,
   "metadata": {
    "collapsed": true
   },
   "outputs": [],
   "source": []
  }
 ],
 "metadata": {
  "kernelspec": {
   "display_name": "Python 2",
   "language": "python",
   "name": "python2"
  },
  "language_info": {
   "codemirror_mode": {
    "name": "ipython",
    "version": 2
   },
   "file_extension": ".py",
   "mimetype": "text/x-python",
   "name": "python",
   "nbconvert_exporter": "python",
   "pygments_lexer": "ipython2",
   "version": "2.7.12"
  }
 },
 "nbformat": 4,
 "nbformat_minor": 0
}
