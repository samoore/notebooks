{
 "cells": [
  {
   "cell_type": "markdown",
   "metadata": {},
   "source": [
    "## A basic IRIS data viewer\n"
   ]
  },
  {
   "cell_type": "markdown",
   "metadata": {},
   "source": [
    "Stuart Moore (NIWA) August 2016"
   ]
  },
  {
   "cell_type": "markdown",
   "metadata": {},
   "source": [
    "The purpose of this notebook is to provide an example on how to create the most basic plot of data within an EcoConnect LAM output file (FF or netCDF format).\n",
    "\n",
    "After ensuring that the correct modules are loaded,\n",
    "\n",
    "```\n",
    "$module load python/2.7.10\n",
    "$module load scitools\n",
    "```\n",
    "\n",
    "Alternatively, you can set up the notebook by loading the Anaconda PYthon environment using,\n",
    "\n",
    "```\n",
    "$module load python/anaconda-2.4.1-Python-2.7\n",
    "```\n",
    "\n",
    "The first step is to import the required Python libraries that will be used."
   ]
  },
  {
   "cell_type": "code",
   "execution_count": 1,
   "metadata": {
    "collapsed": true
   },
   "outputs": [],
   "source": [
    "from __future__ import (absolute_import, division, print_function)\n",
    "import iris\n",
    "import matplotlib.pyplot as plt\n",
    "from matplotlib import interactive\n",
    "import iris.quickplot as qplt\n",
    "import cartopy.crs as ccrs"
   ]
  },
  {
   "cell_type": "markdown",
   "metadata": {},
   "source": [
    "We now need to load the data file.  This can be a fieldsfile, PP file, netCDF or GRIB file."
   ]
  },
  {
   "cell_type": "code",
   "execution_count": 2,
   "metadata": {
    "collapsed": false
   },
   "outputs": [
    {
     "name": "stderr",
     "output_type": "stream",
     "text": [
      "/home/mooresa/anaconda/lib/python2.7/site-packages/iris/fileformats/cf.py:1143: IrisDeprecation: NetCDF default loading behaviour currently does not expose variables which define reference surfaces for dimensionless vertical coordinates as independent Cubes. This behaviour is deprecated in favour of automatic promotion to Cubes. To switch to the new behaviour, set iris.FUTURE.netcdf_promote to True.\n",
      "  warn_deprecated(msg)\n"
     ]
    }
   ],
   "source": [
    "um_data = iris.load('/home/ecox_oper/cylc-run/niwa1-aa175/share/cycle/20170831T12/output/met_2017083112_utc_nzlam_000.nc')"
   ]
  },
  {
   "cell_type": "markdown",
   "metadata": {},
   "source": [
    "We now print out the contents of that file(s) that have been read into an Iris cube.  Take note of the field index as we'll use this is select the varaible we want to plot."
   ]
  },
  {
   "cell_type": "code",
   "execution_count": 4,
   "metadata": {
    "collapsed": false
   },
   "outputs": [
    {
     "name": "stdout",
     "output_type": "stream",
     "text": [
      "0: mid level cloud (800 to 500 hPa) fraction / (1) (time: 10; grid_latitude: 324; grid_longitude: 324)\n",
      "1: probability of visibility less than 5 km (1.5m) / (1) (time: 10; grid_latitude: 324; grid_longitude: 324)\n",
      "2: probability of visibility less than 1 km including rain / (1) (time: 10; grid_latitude: 324; grid_longitude: 324)\n",
      "3: low level cloud (1000 to 800 hPa) fraction / (1) (time: 10; grid_latitude: 324; grid_longitude: 324)\n",
      "4: high level cloud (500 to 150 hPa) fraction / (1) (time: 10; grid_latitude: 324; grid_longitude: 324)\n",
      "5: mean convective snow rate / (kg m-2 s-1) (time: 10; grid_latitude: 324; grid_longitude: 324)\n",
      "6: total level cloud fraction / (1)    (time: 10; grid_latitude: 324; grid_longitude: 324)\n",
      "7: very low level cloud (>1000hPa) fraction / (1) (time: 10; grid_latitude: 324; grid_longitude: 324)\n",
      "8: air_pressure / (Pa)                 (time: 10; grid_latitude: 324; grid_longitude: 324)\n",
      "9: air_pressure_at_sea_level / (Pa)    (time: 10; grid_latitude: 324; grid_longitude: 324)\n",
      "10: air_temperature / (K)               (time: 10; grid_latitude: 324; grid_longitude: 324)\n",
      "11: air_temperature / (K)               (time: 10; air_pressure: 14; grid_latitude: 324; grid_longitude: 324)\n",
      "12: atmosphere_hybrid_height_coordinate / (1) (-- : 71)\n",
      "13: atmosphere_hybrid_height_coordinate / (1) (-- : 70)\n",
      "14: cloud_area_fraction / (1)           (time: 10; grid_latitude: 324; grid_longitude: 324)\n",
      "15: cloud_base_altitude / (m)           (time: 10; grid_latitude: 324; grid_longitude: 324)\n",
      "16: cloud_top_altitude / (m)            (time: 10; grid_latitude: 324; grid_longitude: 324)\n",
      "17: convective_rainfall_amount / (kg m-2) (time: 9; grid_latitude: 324; grid_longitude: 324)\n",
      "18: convective_rainfall_rate / (kg m-2 s-1) (time: 10; grid_latitude: 324; grid_longitude: 324)\n",
      "19: convective_snowfall_amount / (kg m-2) (time: 9; grid_latitude: 324; grid_longitude: 324)\n",
      "20: eastward_wind / (m s-1)             (time: 10; grid_latitude: 324; grid_longitude: 324)\n",
      "21: eastward_wind / (m s-1)             (time: 10; air_pressure: 14; grid_latitude: 324; grid_longitude: 324)\n",
      "22: ertel_potential_vorticity / (K m2 kg-1 s-1) (time: 10; air_pressure: 14; grid_latitude: 324; grid_longitude: 324)\n",
      "23: freezing_level_altitude / (m)       (time: 10; grid_latitude: 324; grid_longitude: 324)\n",
      "24: geopotential_height / (m)           (time: 10; air_pressure: 14; grid_latitude: 324; grid_longitude: 324)\n",
      "25: lwe_precipitation_rate / (kg m-2 s-1) (time: 10; grid_latitude: 324; grid_longitude: 324)\n",
      "26: lwe_snowfall_rate / (kg m-2 s-1)    (time: 10; grid_latitude: 324; grid_longitude: 324)\n",
      "27: lwe_snowfall_rate / (kg m-2 s-1)    (time: 10; grid_latitude: 324; grid_longitude: 324)\n",
      "28: lwe_thickness_of_snowfall_amount / (kg m-2) (time: 9; grid_latitude: 324; grid_longitude: 324)\n",
      "29: northward_wind / (m s-1)            (time: 10; grid_latitude: 324; grid_longitude: 324)\n",
      "30: northward_wind / (m s-1)            (time: 10; air_pressure: 14; grid_latitude: 324; grid_longitude: 324)\n",
      "31: precipitation_amount / (kg m-2)     (time: 9; grid_latitude: 324; grid_longitude: 324)\n",
      "32: rainfall_amount / (kg m-2)          (time: 9; grid_latitude: 324; grid_longitude: 324)\n",
      "33: rainfall_rate / (kg m-2 s-1)        (time: 10; grid_latitude: 324; grid_longitude: 324)\n",
      "34: relative_humidity / (1)             (time: 10; air_pressure: 14; grid_latitude: 324; grid_longitude: 324)\n",
      "35: relative_humidity / (1)             (time: 10; grid_latitude: 324; grid_longitude: 324)\n",
      "36: soil_moisture_content / (kg m-2)    (time: 10; depth: 4; grid_latitude: 324; grid_longitude: 324)\n",
      "37: surface_altitude / (m)              (time: 1; grid_latitude: 324; grid_longitude: 324)\n",
      "38: surface_altitude / (m)              (time: 1; grid_latitude: 324; grid_longitude: 324)\n",
      "39: surface_snow_amount / (kg m-2)      (time: 10; grid_latitude: 324; grid_longitude: 324)\n",
      "40: surface_temperature / (K)           (time: 10; grid_latitude: 324; grid_longitude: 324)\n",
      "41: upward_air_velocity / (m s-1)       (time: 10; air_pressure: 14; grid_latitude: 324; grid_longitude: 324)\n",
      "42: visibility_in_air / (m)             (time: 10; grid_latitude: 324; grid_longitude: 324)\n",
      "43: water_potential_evaporation_flux / (kg m-2 s-1) (time: 10; surface9: 9; grid_latitude: 324; grid_longitude: 324)\n"
     ]
    }
   ],
   "source": [
    "print(um_data)"
   ]
  },
  {
   "cell_type": "markdown",
   "metadata": {},
   "source": [
    "From the above list of available fields, we can read a field directly into a cube structure. For example,"
   ]
  },
  {
   "cell_type": "markdown",
   "metadata": {},
   "source": [
    "We also note the dimensions associated with the selected field.  Iris plots 2D maps so we need to filter the selected field down to just two varying dimensions.  We choose to plot just the first available time.  Indices start from 0."
   ]
  },
  {
   "cell_type": "code",
   "execution_count": 5,
   "metadata": {
    "collapsed": true
   },
   "outputs": [],
   "source": [
    "field = um_data[40][0,:,:]"
   ]
  },
  {
   "cell_type": "markdown",
   "metadata": {},
   "source": [
    "We now set up the basic environment for visualising the chosen field.  For models such as NZLAM and NZCSM this means we need to account for the rotated grids they are run on and specifiy this in the cartographic environment used by the plotting library."
   ]
  },
  {
   "cell_type": "code",
   "execution_count": 6,
   "metadata": {
    "collapsed": false
   },
   "outputs": [],
   "source": [
    "RotPolNZ = ccrs.RotatedPole(pole_longitude=166.00, pole_latitude=51.75, central_rotated_longitude=180)\n",
    "ax = plt.axes(projection=RotPolNZ)"
   ]
  },
  {
   "cell_type": "markdown",
   "metadata": {},
   "source": [
    "The above sets up a rotated pole like proection to ensure that SH LAM domains are plotted appropriately.  The pole_latitude and pole_longitude values should match those used by teh model itself.\n",
    "\n",
    "NZLAM: pole_latitude = 166.00; pole_longitude =  51.75 \n",
    "\n",
    "NZCSM: pole_latitude = 171.77; pole_longitude = 49.55"
   ]
  },
  {
   "cell_type": "markdown",
   "metadata": {},
   "source": [
    "Now create the plot."
   ]
  },
  {
   "cell_type": "code",
   "execution_count": 7,
   "metadata": {
    "collapsed": false
   },
   "outputs": [
    {
     "name": "stderr",
     "output_type": "stream",
     "text": [
      "/home/mooresa/anaconda/lib/python2.7/site-packages/iris/coords.py:826: UserWarning: Coordinate u'grid_longitude' is not bounded, guessing contiguous bounds.\n",
      "  'contiguous bounds.'.format(self.name()))\n",
      "/home/mooresa/anaconda/lib/python2.7/site-packages/iris/coords.py:826: UserWarning: Coordinate u'grid_latitude' is not bounded, guessing contiguous bounds.\n",
      "  'contiguous bounds.'.format(self.name()))\n"
     ]
    },
    {
     "data": {
      "text/plain": [
       "<matplotlib.collections.QuadMesh at 0x7f9a8c1d4550>"
      ]
     },
     "execution_count": 7,
     "metadata": {},
     "output_type": "execute_result"
    }
   ],
   "source": [
    "%matplotlib qt\n",
    "qplt.pcolormesh(field)\n",
    "#plt.show()"
   ]
  },
  {
   "cell_type": "markdown",
   "metadata": {},
   "source": [
    "We can now add some coastlines to the plot if we wish, using the www.naturalearth.com datasets.  This seems to only work depending on what installation of Python, Jupyter is used."
   ]
  },
  {
   "cell_type": "code",
   "execution_count": 16,
   "metadata": {
    "collapsed": true
   },
   "outputs": [],
   "source": [
    "%matplotlib qt"
   ]
  },
  {
   "cell_type": "code",
   "execution_count": 8,
   "metadata": {
    "collapsed": false
   },
   "outputs": [
    {
     "data": {
      "text/plain": [
       "<cartopy.mpl.feature_artist.FeatureArtist at 0x7f9a799e7790>"
      ]
     },
     "execution_count": 8,
     "metadata": {},
     "output_type": "execute_result"
    }
   ],
   "source": [
    "plt.gca().coastlines(resolution='10m', color='black')\n",
    "#plt.show()"
   ]
  },
  {
   "cell_type": "code",
   "execution_count": null,
   "metadata": {
    "collapsed": true
   },
   "outputs": [],
   "source": []
  }
 ],
 "metadata": {
  "kernelspec": {
   "display_name": "Python 2",
   "language": "python",
   "name": "python2"
  },
  "language_info": {
   "codemirror_mode": {
    "name": "ipython",
    "version": 2
   },
   "file_extension": ".py",
   "mimetype": "text/x-python",
   "name": "python",
   "nbconvert_exporter": "python",
   "pygments_lexer": "ipython2",
   "version": "2.7.13"
  }
 },
 "nbformat": 4,
 "nbformat_minor": 0
}
